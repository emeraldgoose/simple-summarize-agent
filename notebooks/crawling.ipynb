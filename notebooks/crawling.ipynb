{
 "cells": [
  {
   "cell_type": "code",
   "execution_count": 1,
   "metadata": {},
   "outputs": [],
   "source": [
    "url = \"https://careersatdoordash.com/blog/how-to-investigate-the-online-vs-offline-performance-for-dnn-models/\""
   ]
  },
  {
   "cell_type": "code",
   "execution_count": 2,
   "metadata": {},
   "outputs": [],
   "source": [
    "from selenium import webdriver\n",
    "from bs4 import BeautifulSoup\n",
    "\n",
    "driver = webdriver.Chrome()\n",
    "driver.get(url)\n",
    "soup = BeautifulSoup(driver.page_source,'html.parser')\n",
    "driver.quit()"
   ]
  },
  {
   "cell_type": "code",
   "execution_count": 8,
   "metadata": {},
   "outputs": [
    {
     "ename": "ValueError",
     "evalue": "not enough values to unpack (expected 2, got 1)",
     "output_type": "error",
     "traceback": [
      "\u001b[0;31m---------------------------------------------------------------------------\u001b[0m",
      "\u001b[0;31mValueError\u001b[0m                                Traceback (most recent call last)",
      "Cell \u001b[0;32mIn[8], line 1\u001b[0m\n\u001b[0;32m----> 1\u001b[0m header, body \u001b[38;5;241m=\u001b[39m soup\u001b[38;5;241m.\u001b[39mfind_all(\u001b[38;5;124m'\u001b[39m\u001b[38;5;124marticle\u001b[39m\u001b[38;5;124m'\u001b[39m)\n",
      "\u001b[0;31mValueError\u001b[0m: not enough values to unpack (expected 2, got 1)"
     ]
    }
   ],
   "source": [
    "header, body = soup.find_all('article')"
   ]
  },
  {
   "cell_type": "code",
   "execution_count": 9,
   "metadata": {},
   "outputs": [
    {
     "data": {
      "text/plain": [
       "'How to investigate the online vs offline performance for DNN models'"
      ]
     },
     "execution_count": 9,
     "metadata": {},
     "output_type": "execute_result"
    }
   ],
   "source": [
    "title = header.find('h1').getText()\n",
    "title"
   ]
  },
  {
   "cell_type": "code",
   "execution_count": 56,
   "metadata": {},
   "outputs": [
    {
     "data": {
      "text/plain": [
       "<div class=\"entry-content prose prose-doordash pb-20 max-w-none\">\n",
       "<p>Predictive model performance gap between offline evaluations and online inference is a common and persistent challenge in the ML industry, often preventing models from achieving their full business potential. At DoorDash, this issue is particularly critical for deep learning models, as it impacts multiple teams across domains. Bridging this gap is essential for maximizing the business value of these models.</p>\n",
       "<p>The Ads Quality ML team encountered the same challenge for our latest few ranking model iterations. In this blog, using the latest launched model iterations as a case study, we will walk through the debugging process, and share a scalable methodology framework for investigating and resolving these discrepancies. </p>\n",
       "<p>By adopting the solution proposed in the blog, we reduce the online-offline AUC gap from 4.3% to 0.76%.</p>\n",
       "<p>Our experience highlights critical areas such as feature serving consistency, feature freshness, and potential concerns when integrating real-time features for model serving. These insights can guide future efforts to improve offline and online performance alignment.</p>\n",
       "<h2 class=\"wp-block-heading\">Model development context</h2>\n",
       "<p>Restaurant Discovery Ads, the primary entry point for ads in the app, contributes the largest share of ad revenue. Key milestones since early 2023 are summarized in Fig-1. After evaluating various model architectures, we have adopted the Multi-Task Multi-Label (MTML) model architectures.</p>\n",
       "\n",
       "<figure class=\"wp-block-image aligncenter is-resized\"><img alt=\"\" src=\"https://lh7-rt.googleusercontent.com/docsz/AD_4nXdGouL9pDnn3LKih2h4mmEwcZGPIlQYOxX_M3itKMtBWq56qBttGbcEVh8MggWkFAZWSan6jJolWjFi9-nAENu0UFG0gIVKhz_5T6wWWokIpa0JrPpXj-K2xZN0Y1xYbMLL9VSV?key=2JKv1fZGhwooiun5eP7Ez3ot\" style=\"width:960px;height:auto\"/><figcaption class=\"wp-element-caption\"><em>Figure 1: Restaurant Discovery Ads Ranking Deep Learning Milestones</em></figcaption></figure>\n",
       "\n",
       "<p>The goal for this milestone (M4), Multi-MTML V4 is to add more features to further improve the model performance. For the online-offline AUC gap investigation in the middle of this milestone, on top of existing features, we added more than 40 dense features. </p>\n",
       "\n",
       "<figure class=\"wp-block-table\"><table class=\"has-fixed-layout\"><tbody><tr><td><strong>Feature Category</strong></td><td><strong>Feature Data Type</strong></td><td><strong>Description</strong></td></tr><tr><td rowspan=\"2\">Existing Features</td><td>Dense Features</td><td>Mostly consumer engagement features</td></tr><tr><td>Sequence Features</td><td>Consumer-engaged business/food/cuisine tag sequence &amp; contextual features</td></tr><tr><td>Newly Added Features</td><td>Dense Features</td><td>Consumer promotion-related featuresAdditional consumer engagement features</td></tr></tbody></table><figcaption class=\"wp-element-caption\"><em>Table 1: Model for investigation Feature details</em></figcaption></figure>\n",
       "\n",
       "<h2 class=\"wp-block-heading\">Identification of the problem</h2>\n",
       "<p>We developed a model using widely accepted offline training data construction rules, where impression data is joined with feature values from the previous day. This approach simulates the scenario of leveraging 'yesterday's' feature values for ‘today's’ model inference.</p>\n",
       "<p>However, we observed a 4% decline in AUC during real-time online inference compared to offline evaluation. Notably, the online AUC was also much lower than the baseline achieved by the current production model. </p>\n",
       "<h2 class=\"wp-block-heading\">Thought process of root causing</h2>\n",
       "<h3 class=\"wp-block-heading\">Begin with a hypothesis-driven approach</h3>\n",
       "<p>We begin with a hypothesis-driven approach, where we design experiments to validate or invalidate each hypothesis. The initial hypotheses include:</p>\n",
       "<ol class=\"wp-block-list\"><li><strong>Feature Generation Disparity</strong>: This often arises when the offline feature pipeline does not mimic the online environment, leading to discrepancies in real-time predictions.</li>\n",
       "<li><strong>Data Distribution Shift (Concept Drift)</strong>: Changes in the underlying data distribution over time, such as seasonal changes in consumer behavior, could significantly impact model generalization. </li>\n",
       "<li><strong>Model Serving Instability</strong>: Issues with the model serving infrastructure, such as latency or incorrect model versions, might be affecting online performance.</li></ol>\n",
       "<p>For each hypothesis, we conduct experiments, analyze the data, identify root causes, apply fixes, and redeploy the model. This iterative process continues until all performance gaps are resolved or new issues emerge.</p>\n",
       "<h3 class=\"wp-block-heading\"><strong>Design of experiment - offline replay</strong></h3>\n",
       "<p>To test feature disparity, we regenerate the evaluation dataset using the same online impression traffic (from the shadow) with the same offline feature join process. We then run model inference and evaluate AUC. </p>\n",
       "<ol class=\"wp-block-list\"><li>If the Reply AUC is similar to that from previous offline evaluation, it confirms the offline to online performance recession is due to feature disparities. </li>\n",
       "<li>If the Reply AUC aligns with the shadow but remains lower than the previous offline AUC, it indicates the concept drift.</li></ol>\n",
       "<h3 class=\"wp-block-heading\">Key results - AUC benchmark</h3>\n",
       "\n",
       "<figure class=\"wp-block-table\"><table class=\"has-fixed-layout\"><thead><tr><th><strong>Eval Date Range</strong></th><th><strong>Model</strong></th><th><strong>Feature Generation</strong></th><th><strong>Online vs Offline</strong></th><th><strong>AUC</strong></th></tr></thead><tbody><tr><td rowspan=\"3\">One Week’s data in September</td><td>Baseline (Prod Model)</td><td>Online Logging</td><td>Online</td><td>Baseline Value</td></tr><tr><td>New model</td><td>Online Logging</td><td>Online Shadow</td><td>-1.80%</td></tr><tr><td>New model</td><td>-1d offline join new added features</td><td>Offline Replay</td><td>+2.05%</td></tr><tr><td rowspan=\"2\">One Week’s data in June</td><td>Baseline (Prod Model)</td><td>Online Logging</td><td>Offline</td><td>+0.77%</td></tr><tr><td>New model</td><td>-1d offline join new added features</td><td>Offline</td><td>+2.105%</td></tr></tbody></table><figcaption class=\"wp-element-caption\"><em>Table 2: AUC Benchmarks for offline Reply</em></figcaption></figure>\n",
       "\n",
       "<ul class=\"wp-block-list\"><li>When the model first trained offline, the AUC on the eval set had 2.1% AUC improvement compared with the baseline value; when shadowed online on the week of 09/09, it was -1.8% decrease.</li>\n",
       "<li>During the shadowing, we did not see any obvious outage on the Logging service (hence can temporarily rule out hypothesis #3 of serving instability).</li>\n",
       "<li>Replaying the evaluation offline with the same feature generation process as training data on the shadow impressions, the AUC is 2.05% improvement, which is very close to 2.1%.</li>\n",
       "<li><strong>The above evidence suggests the main culprit is feature disparity.</strong></li></ul>\n",
       "<p>In the following section, we dive deeper to understand the feature disparities.</p>\n",
       "<h2 class=\"wp-block-heading\">Feature disparity investigation</h2>\n",
       "<p>There are two potential root causes for such online and offline feature disparities: </p>\n",
       "<h3 class=\"wp-block-heading\">Feature staleness vs cached residuals</h3>\n",
       "<p><strong>Feature Staleness</strong> occurs when most recent feature values are not available during serving. It is primarily due to at<strong> </strong>least -1d or -2d delays in the feature pipeline, with minor delays from feature uploads occurring a few hours after the data is ready.</p>\n",
       "<p><strong>Cached Residuals</strong> occur when feature values are null or no longer available after the most recent pipeline run. Since the Online Feature Store only overrides existing keys or adds new ones without evicting the old entries, outdated data can persist.</p>\n",
       "<p>To gain further insights, we conduct a deep dive for newly added topmost important features to better understand the feature serving dynamics.</p>\n",
       "<h3 class=\"wp-block-heading\">Challenges</h3>\n",
       "<p>Both of these cases<strong> </strong>are difficult to address perfectly using offline feature joining logic. Since:</p>\n",
       "<ul class=\"wp-block-list\"><li>For <strong>Feature Staleness</strong>, the SLA varies across features due to the variances in the pipeline implementations, processed data volume, availability of computation resources, feature uploading velocities, etc.</li>\n",
       "<li>For <strong>Cached Residuals</strong>, since it’s unknown how many existing feature values in the Online Feature Store are absolute values, thus hard to tell which entity suffers from this case mostly. </li></ul>\n",
       "<h3 class=\"wp-block-heading\">Key insights</h3>\n",
       "<ul class=\"wp-block-list\"><li><strong>Feature staleness</strong> - <em>The current -1d offsite for offline feature join is a very aggressive choice. </em>Analysis of online logging shows that most feature values used for a given prediction were from the consumer’s engagement 2-3d<strong> </strong>earlier, indicating a long SLA from data generation to feature availability.</li>\n",
       "<li><strong>Cached residuals</strong> - We assume that any feature values older than 4 days are likely due to long-lived historical values remaining in the Feature Store. This results in a lower missing rate during online serving and is a key factor contributing to feature disparity.</li>\n",
       "<li><strong>Ubiquity:</strong> Both Feature Staleness and Cached Residuals impact most features, though the severity of these issues varies depending on the feature.</li>\n",
       "<li><strong>AUC Gaps:</strong> By generating simulated data with longer feature active_date offsites (from 1d to 3d/4d), we observed a reduced AUC gap, validating the impact of these issues.</li></ul>\n",
       "<h4 class=\"wp-block-heading\">Cached residuals</h4>\n",
       "<p>Features most impacted by Cached Residuals are likely to have these characteristics:</p>\n",
       "<ul class=\"wp-block-list\"><li>High cardinality (such as cross features at consumer levels) and volatile values (e.g., values change frequently from day to day).</li>\n",
       "<li>Aggregated over short time windows, e.g. aggregated features with past 1 day/7 day data, making them more susceptible to outdated data being served from the cache.</li></ul>\n",
       "<p>For the 10 most important new features, we have listed their mostly observed staleness and % of fetched residuals during online serving: </p>\n",
       "\n",
       "<figure class=\"wp-block-table\"><table class=\"has-fixed-layout\"><tbody><tr><td><strong>Feature Name</strong></td><td><strong>Feature Aggregation Level</strong></td><td><strong>Feature Aggregation Time Window</strong></td><td><strong>Feature Staleness</strong></td><td><strong>Feature Missing Rate</strong></td><td><strong>% of cached residuals</strong></td></tr><tr><td>Feature 1</td><td>Consumer level</td><td>Past 1 year</td><td>-3d/-4d</td><td>2.77%</td><td>1.15%</td></tr><tr><td>Feature 2</td><td>&lt;Consumer, Store&gt; level</td><td>Past 3 month</td><td>-3d</td><td>76.20%</td><td>45.6%</td></tr><tr><td>Feature 3</td><td>&lt;Consumer, Store&gt; level</td><td>Past half-year</td><td>-3d</td><td>70.19%</td><td>23.6%</td></tr><tr><td>Feature 4</td><td>Consumer level</td><td>Past 1 year</td><td>-3d/-4d</td><td>2.77%</td><td>6.07%</td></tr><tr><td>Feature 5</td><td>Consumer level</td><td>Past 3 months</td><td>-3d</td><td>45.18%</td><td>4.56%</td></tr><tr><td>Feature 6</td><td>Consumer level</td><td>Past 3 months</td><td>-3d</td><td>76.19%</td><td>31.0%</td></tr><tr><td>Feature 7</td><td>Consumer level</td><td>Past 1 month</td><td>-2d</td><td>76.19%</td><td>31.0%</td></tr><tr><td>Feature 8</td><td>Store level</td><td>Past 3 months</td><td>-3d</td><td>0.92%</td><td>34.9%</td></tr><tr><td>Feature 9</td><td>Consumer level</td><td>Past 3 months</td><td>-2d</td><td>45.18%</td><td>4.55%</td></tr><tr><td>Feature 10</td><td>Store level</td><td>Past 1 day</td><td>-3d</td><td>23.50%</td><td>24.7%</td></tr></tbody></table><figcaption class=\"wp-element-caption\">Table 3: Cache Residuals of the 10 most important added features</figcaption></figure>\n",
       "\n",
       "<p><strong>Online vs offline feature distribution</strong></p>\n",
       "<p>For served features with a higher concentration of cached residuals, we observed a noticeably lower missing rate online compared to offline. This discrepancy is reflected in the misalignment of feature distributions between online and offline, as seen in Fig-2. In the examples below,<strong> </strong>missing values for both features are imputed as 0, leading to pronounced peaks around 0 in the distributions.</p>\n",
       "\n",
       "<figure class=\"wp-block-image aligncenter is-resized\"><img alt=\"\" src=\"https://lh7-rt.googleusercontent.com/docsz/AD_4nXeC8PfTbKQ_oN14mOK-aGt2JZczRZjb0ivbKiS_XkeAc-CTFuMLh99iQAVOlXNTTRtdp3rPB15k9jg43-_qJiJNrj2M8bNLBvBtIi256_LyR7_Zq6e5zddxZIo2tFBQqRBLqsf4?key=2JKv1fZGhwooiun5eP7Ez3ot\" style=\"width:746px;height:auto\"/><figcaption class=\"wp-element-caption\"><em>Figure 2: Feature Distribution Online (red) vs Offline (blue)</em></figcaption></figure>\n",
       "\n",
       "<h4 class=\"wp-block-heading\">Feature staleness</h4>\n",
       "<p><strong>Feature-to-feature variations</strong></p>\n",
       "<p>The actual staleness varies across features due to the variances in the pipeline implementations, processed data volume, availability of computation resources, and feature uploading velocities. Below are two examples to illustrate such variations. </p>\n",
       "<ul class=\"wp-block-list\"><li>Feature 1: -3d to -4d delay</li>\n",
       "<li>Feature 10: -1d delay</li></ul>\n",
       "\n",
       "<figure class=\"wp-block-image aligncenter is-resized\"><img alt=\"\" src=\"https://lh7-rt.googleusercontent.com/docsz/AD_4nXfVu9h5JPpG3wnNU3x6zVw8rVqxankDAxsNyD2_QZlc-bn4gYjJtefjkV4pe0M58WsheHYsqgDNL_EEBHBdzzAFwH_M5CmumrYhRJJify_L0vzlXpm898hLl0EV4Yvf0MGfwSxarw?key=2JKv1fZGhwooiun5eP7Ez3ot\" style=\"width:593px;height:auto\"/></figure>\n",
       "\n",
       "\n",
       "<figure class=\"wp-block-image aligncenter is-resized\"><img alt=\"\" src=\"https://lh7-rt.googleusercontent.com/docsz/AD_4nXcr0SIZWL1hl1VF1CBw29l9xYdHISxI6l3lwM0afEWGBLVcO4GCuVJBoZnwgko8VWzlTgFQUjxk6C6fhbPQtw4zj-NjCCHMZe6QbykCDs6UBWOFnBeTXhg0yp_yl3j2_igkny33ZQ?key=2JKv1fZGhwooiun5eP7Ez3ot\" style=\"width:589px;height:auto\"/><figcaption class=\"wp-element-caption\"><em>Figure 3: Feature Staleness</em></figcaption></figure>\n",
       "\n",
       "<p><em>* Disclaimer: Figure 3 may underestimate feature staleness, as small day-to-day feature value changes make it hard to pinpoint the exact feature uploading date. This data should be taken with a grain of salt.</em></p>\n",
       "<p><strong>Day-to-day feature value change</strong></p>\n",
       "<p>For most features, only less than 10% of feature values are different from previous days, while features with small aggregation time windows have more than 35% difference. </p>\n",
       "\n",
       "<figure class=\"wp-block-table\"><table class=\"has-fixed-layout\"><tbody><tr><td><strong>Feature Name</strong></td><td><strong>Feature Aggregation Level</strong></td><td><strong>Feature Aggregation Time Window</strong></td><td><strong>% of entities change**</strong></td><td><strong>% of feature value mismatch***</strong></td></tr><tr><td>Feature 1</td><td>Consumer level</td><td>Past 1 year</td><td>0.0258%</td><td>9.69%</td></tr><tr><td>Feature 2</td><td>&lt;Consumer, Store&gt; level</td><td>Past 3 month</td><td>1.04%</td><td>5.2%</td></tr><tr><td>Feature 3</td><td>&lt;Consumer, Store&gt; level</td><td>Past half-year</td><td>3.36%</td><td>11.3%</td></tr><tr><td>Feature 4</td><td>Consumer level</td><td>Past 1 year</td><td>0.0258%</td><td>9.68%</td></tr><tr><td>Feature 5</td><td>Consumer level</td><td>Past 3 months</td><td>1.0%</td><td>8.37%</td></tr><tr><td>Feature 6</td><td>Consumer level</td><td>Past 3 months</td><td>1.04%</td><td>4.66%</td></tr><tr><td>Feature 7</td><td>Consumer level</td><td>Past 1 month</td><td>1.04%</td><td>4.66%</td></tr><tr><td>Feature 8</td><td>Store level</td><td>Past 3 months</td><td>0.09%</td><td>4.38%</td></tr><tr><td>Feature 9</td><td>Consumer level</td><td>Past 3 months</td><td>1.04%</td><td>4.78%</td></tr><tr><td>Feature 10</td><td>Store level</td><td>Past 1 day</td><td>0.436%</td><td>35.7%</td></tr></tbody></table><figcaption class=\"wp-element-caption\"><em>Table 4: Cache Residuals of the 10 most important added features<br/>**<strong> </strong>the percentage of entity_ids that did not show up in the previous data.<br/>***the percentage of feature values that are different from the previous day. </em></figcaption></figure>\n",
       "\n",
       "<h2 class=\"wp-block-heading\">Validate hypothesis and close the loop</h2>\n",
       "<p>To summarize the above investigation and close the hypothesis validation loop, we build new training and evaluation datasets and run evaluations. For the features inherited from the current model, we continued to use the Real-time Serving logged values in all the training sets.</p>\n",
       "<ul class=\"wp-block-list\"><li><strong>Rebuild</strong> 4 datasets with impression data joining with minus 1/2/3/4 day feature offset dates for both training and evaluation datasets and train 4 models respectively. </li>\n",
       "<li><strong>Evaluate</strong> 4 model performances on 2 datasets (date ranges are different between them):<ul class=\"wp-block-list\"><li>Offline Evaluation dataset - The eval dataset with the same feature offset dates as training. </li></ul></li></ul>\n",
       "<p>Shadow Log dataset - All feature values are logged values from online real-time model serving. </p>\n",
       "\n",
       "<figure class=\"wp-block-image aligncenter size-large is-resized\"><img alt=\"\" class=\"wp-image-13500\" src=\"https://careersatdoordash.com/wp-content/uploads/2024/12/image-1024x565.png\" style=\"width:626px;height:auto\"/><figcaption class=\"wp-element-caption\"><em>Figure 4: AUC Relative Changes on models trained by -1/2/3/4 day feature offsets</em></figcaption></figure>\n",
       "\n",
       "<p class=\"has-text-align-left\">From the above Fig-4, if we trace out the offline AUC vs Feature offset days (e.g. delayness), it suggests that model performance degrades as feature freshness decreases, highlighting the importance of timely feature updates in maintaining optimal model accuracy.</p>\n",
       "<p>The most significant AUC drop comes from 1d delay to 2d. The rationale for picking offline AUC instead of online as the benchmark is to rule out the impact of feature disparity.</p>\n",
       "<h2 class=\"wp-block-heading\">Proposed solutions</h2>\n",
       "<p><strong>Short-term:</strong> Generate evaluation sets with different feature offsets (e.g., -2d, -3d, -4d) and select the offset closest to production AUC. Use this offset to create training data and build the model.</p>\n",
       "<p><strong>Long-term:</strong> Enable online logging for new features. However, there’s a clear trade-off between development speed and data accuracy, which needs careful consideration during the project planning stage.</p>\n",
       "\n",
       "<figure class=\"wp-block-table\"><table class=\"has-fixed-layout\"><tbody><tr><td>Solution</td><td>Pros</td><td>Cons</td></tr><tr><td>Short-term</td><td>Reduces AUC discrepancy immediately</td><td>Does not address cached residuals</td></tr><tr><td>Long-term</td><td>Effectively resolves both cached residuals and feature staleness.Improves model generalization.</td><td>Has the trade-off between development speed and data accuracyRequires system stability improvements to support feature logging of larger traffic.</td></tr></tbody></table><figcaption class=\"wp-element-caption\"><em>Table 5: Comparison between short-term and long-term solutions</em></figcaption></figure>\n",
       "\n",
       "<h2 class=\"wp-block-heading\">Experiment result and conclusion</h2>\n",
       "<p>By adopting the short-term solution proposed in the blog, we reduce the online offline AUC gap from 4.3% to 0.76% for our latest Restaurant Discovery Ads Ranking model Deep Learning Iteration. Combined with other feature improvements, this iteration achieved the largest business gain among Ads Ranking model Iterations this year.</p>\n",
       "<p>This investigation not only resolved immediate performance gaps but also highlighted the importance of feature alignment in real-time systems. The methodology developed here can serve as a blueprint for addressing similar challenges across other domains. Moving forward, adopting robust logging systems and scaling feature pipelines will ensure that our models continue to drive impactful business outcomes.</p>\n",
       "<h2 class=\"wp-block-heading\">Other thoughts</h2>\n",
       "<h3 class=\"wp-block-heading\">Why was the online vs offline gap not as significant before 2023?</h3>\n",
       "<p><strong>Scale of the Business</strong>: The ads business has grown 3-5x over the past year, leading to increased data volume and feature complexity, which has amplified the impact of feature staleness and cached residuals.</p>\n",
       "<p><strong>Model Architecture</strong>: Previously, tree-based models were less sensitive to feature disparities because they bucketize values into leaf nodes, meaning small differences often have minimal impact. However, DNNs, being parametric models, are much more sensitive to precise feature values, where even slight deviations can affect the model's output. This shift to DNNs has made the online vs. offline gap more significant. </p>\n",
       "<h2 class=\"wp-block-heading\">Acknowledgments</h2>\n",
       "<p>Special thanks to Hebo Yang, Mark Yang, Ferras Hamad, Vasily Vlasov and Arvind Kalyan from Machine Learning Platform for all the collaborations on Ads User Engagement Prediction Modeling. </p>\n",
       "<p></p>\n",
       "<p>Interested in solving these kind of problems? Come <a href=\"https://careersatdoordash.com/job-search/?department=Engineering&amp;job_ids=&amp;location=\">join us</a>!  </p> </div>"
      ]
     },
     "execution_count": 56,
     "metadata": {},
     "output_type": "execute_result"
    }
   ],
   "source": [
    "article = body.find(name='div',class_='entry-content')\n",
    "article"
   ]
  },
  {
   "cell_type": "code",
   "execution_count": 55,
   "metadata": {},
   "outputs": [
    {
     "name": "stdout",
     "output_type": "stream",
     "text": [
      "<div class=\"entry-content prose prose-doordash pb-20 max-w-none\">\n",
      "<p>Predictive model performance gap between offline evaluations and online inference is a common and persistent challenge in the ML industry, often preventing models from achieving their full business potential. At DoorDash, this issue is particularly critical for deep learning models, as it impacts multiple teams across domains. Bridging this gap is essential for maximizing the business value of these models.</p>\n",
      "<p>The Ads Quality ML team encountered the same challenge for our latest few ranking model iterations. In this blog, using the latest launched model iterations as a case study, we will walk through the debugging process, and share a scalable methodology framework for investigating and resolving these discrepancies. </p>\n",
      "<p>By adopting the solution proposed in the blog, we reduce the online-offline AUC gap from 4.3% to 0.76%.</p>\n",
      "<p>Our experience highlights critical areas such as feature serving consistency, feature freshness, and potential concerns when integrating real-time features for model serving. These insights can guide future efforts to improve offline and online performance alignment.</p>\n",
      "<h2 class=\"wp-block-heading\">Model development context</h2>\n",
      "<p>Restaurant Discovery Ads, the primary entry point for ads in the app, contributes the largest share of ad revenue. Key milestones since early 2023 are summarized in Fig-1. After evaluating various model architectures, we have adopted the Multi-Task Multi-Label (MTML) model architectures.</p>\n",
      "\n",
      "<figure class=\"wp-block-image aligncenter is-resized\"><img alt=\"\" src=\"https://lh7-rt.googleusercontent.com/docsz/AD_4nXdGouL9pDnn3LKih2h4mmEwcZGPIlQYOxX_M3itKMtBWq56qBttGbcEVh8MggWkFAZWSan6jJolWjFi9-nAENu0UFG0gIVKhz_5T6wWWokIpa0JrPpXj-K2xZN0Y1xYbMLL9VSV?key=2JKv1fZGhwooiun5eP7Ez3ot\" style=\"width:960px;height:auto\"/><figcaption class=\"wp-element-caption\"><em>Figure 1: Restaurant Discovery Ads Ranking Deep Learning Milestones</em></figcaption></figure>\n",
      "\n",
      "<p>The goal for this milestone (M4), Multi-MTML V4 is to add more features to further improve the model performance. For the online-offline AUC gap investigation in the middle of this milestone, on top of existing features, we added more than 40 dense features. </p>\n",
      "\n",
      "<figure class=\"wp-block-table\"><table class=\"has-fixed-layout\"><tbody><tr><td><strong>Feature Category</strong></td><td><strong>Feature Data Type</strong></td><td><strong>Description</strong></td></tr><tr><td rowspan=\"2\">Existing Features</td><td>Dense Features</td><td>Mostly consumer engagement features</td></tr><tr><td>Sequence Features</td><td>Consumer-engaged business/food/cuisine tag sequence &amp; contextual features</td></tr><tr><td>Newly Added Features</td><td>Dense Features</td><td>Consumer promotion-related featuresAdditional consumer engagement features</td></tr></tbody></table><figcaption class=\"wp-element-caption\"><em>Table 1: Model for investigation Feature details</em></figcaption></figure>\n",
      "\n",
      "<h2 class=\"wp-block-heading\">Identification of the problem</h2>\n",
      "<p>We developed a model using widely accepted offline training data construction rules, where impression data is joined with feature values from the previous day. This approach simulates the scenario of leveraging 'yesterday's' feature values for ‘today's’ model inference.</p>\n",
      "<p>However, we observed a 4% decline in AUC during real-time online inference compared to offline evaluation. Notably, the online AUC was also much lower than the baseline achieved by the current production model. </p>\n",
      "<h2 class=\"wp-block-heading\">Thought process of root causing</h2>\n",
      "<h3 class=\"wp-block-heading\">Begin with a hypothesis-driven approach</h3>\n",
      "<p>We begin with a hypothesis-driven approach, where we design experiments to validate or invalidate each hypothesis. The initial hypotheses include:</p>\n",
      "<ol class=\"wp-block-list\"><li><strong>Feature Generation Disparity</strong>: This often arises when the offline feature pipeline does not mimic the online environment, leading to discrepancies in real-time predictions.</li>\n",
      "<li><strong>Data Distribution Shift (Concept Drift)</strong>: Changes in the underlying data distribution over time, such as seasonal changes in consumer behavior, could significantly impact model generalization. </li>\n",
      "<li><strong>Model Serving Instability</strong>: Issues with the model serving infrastructure, such as latency or incorrect model versions, might be affecting online performance.</li></ol>\n",
      "<p>For each hypothesis, we conduct experiments, analyze the data, identify root causes, apply fixes, and redeploy the model. This iterative process continues until all performance gaps are resolved or new issues emerge.</p>\n",
      "<h3 class=\"wp-block-heading\"><strong>Design of experiment - offline replay</strong></h3>\n",
      "<p>To test feature disparity, we regenerate the evaluation dataset using the same online impression traffic (from the shadow) with the same offline feature join process. We then run model inference and evaluate AUC. </p>\n",
      "<ol class=\"wp-block-list\"><li>If the Reply AUC is similar to that from previous offline evaluation, it confirms the offline to online performance recession is due to feature disparities. </li>\n",
      "<li>If the Reply AUC aligns with the shadow but remains lower than the previous offline AUC, it indicates the concept drift.</li></ol>\n",
      "<h3 class=\"wp-block-heading\">Key results - AUC benchmark</h3>\n",
      "\n",
      "<figure class=\"wp-block-table\"><table class=\"has-fixed-layout\"><thead><tr><th><strong>Eval Date Range</strong></th><th><strong>Model</strong></th><th><strong>Feature Generation</strong></th><th><strong>Online vs Offline</strong></th><th><strong>AUC</strong></th></tr></thead><tbody><tr><td rowspan=\"3\">One Week’s data in September</td><td>Baseline (Prod Model)</td><td>Online Logging</td><td>Online</td><td>Baseline Value</td></tr><tr><td>New model</td><td>Online Logging</td><td>Online Shadow</td><td>-1.80%</td></tr><tr><td>New model</td><td>-1d offline join new added features</td><td>Offline Replay</td><td>+2.05%</td></tr><tr><td rowspan=\"2\">One Week’s data in June</td><td>Baseline (Prod Model)</td><td>Online Logging</td><td>Offline</td><td>+0.77%</td></tr><tr><td>New model</td><td>-1d offline join new added features</td><td>Offline</td><td>+2.105%</td></tr></tbody></table><figcaption class=\"wp-element-caption\"><em>Table 2: AUC Benchmarks for offline Reply</em></figcaption></figure>\n",
      "\n",
      "<ul class=\"wp-block-list\"><li>When the model first trained offline, the AUC on the eval set had 2.1% AUC improvement compared with the baseline value; when shadowed online on the week of 09/09, it was -1.8% decrease.</li>\n",
      "<li>During the shadowing, we did not see any obvious outage on the Logging service (hence can temporarily rule out hypothesis #3 of serving instability).</li>\n",
      "<li>Replaying the evaluation offline with the same feature generation process as training data on the shadow impressions, the AUC is 2.05% improvement, which is very close to 2.1%.</li>\n",
      "<li><strong>The above evidence suggests the main culprit is feature disparity.</strong></li></ul>\n",
      "<p>In the following section, we dive deeper to understand the feature disparities.</p>\n",
      "<h2 class=\"wp-block-heading\">Feature disparity investigation</h2>\n",
      "<p>There are two potential root causes for such online and offline feature disparities: </p>\n",
      "<h3 class=\"wp-block-heading\">Feature staleness vs cached residuals</h3>\n",
      "<p><strong>Feature Staleness</strong> occurs when most recent feature values are not available during serving. It is primarily due to at<strong> </strong>least -1d or -2d delays in the feature pipeline, with minor delays from feature uploads occurring a few hours after the data is ready.</p>\n",
      "<p><strong>Cached Residuals</strong> occur when feature values are null or no longer available after the most recent pipeline run. Since the Online Feature Store only overrides existing keys or adds new ones without evicting the old entries, outdated data can persist.</p>\n",
      "<p>To gain further insights, we conduct a deep dive for newly added topmost important features to better understand the feature serving dynamics.</p>\n",
      "<h3 class=\"wp-block-heading\">Challenges</h3>\n",
      "<p>Both of these cases<strong> </strong>are difficult to address perfectly using offline feature joining logic. Since:</p>\n",
      "<ul class=\"wp-block-list\"><li>For <strong>Feature Staleness</strong>, the SLA varies across features due to the variances in the pipeline implementations, processed data volume, availability of computation resources, feature uploading velocities, etc.</li>\n",
      "<li>For <strong>Cached Residuals</strong>, since it’s unknown how many existing feature values in the Online Feature Store are absolute values, thus hard to tell which entity suffers from this case mostly. </li></ul>\n",
      "<h3 class=\"wp-block-heading\">Key insights</h3>\n",
      "<ul class=\"wp-block-list\"><li><strong>Feature staleness</strong> - <em>The current -1d offsite for offline feature join is a very aggressive choice. </em>Analysis of online logging shows that most feature values used for a given prediction were from the consumer’s engagement 2-3d<strong> </strong>earlier, indicating a long SLA from data generation to feature availability.</li>\n",
      "<li><strong>Cached residuals</strong> - We assume that any feature values older than 4 days are likely due to long-lived historical values remaining in the Feature Store. This results in a lower missing rate during online serving and is a key factor contributing to feature disparity.</li>\n",
      "<li><strong>Ubiquity:</strong> Both Feature Staleness and Cached Residuals impact most features, though the severity of these issues varies depending on the feature.</li>\n",
      "<li><strong>AUC Gaps:</strong> By generating simulated data with longer feature active_date offsites (from 1d to 3d/4d), we observed a reduced AUC gap, validating the impact of these issues.</li></ul>\n",
      "<h4 class=\"wp-block-heading\">Cached residuals</h4>\n",
      "<p>Features most impacted by Cached Residuals are likely to have these characteristics:</p>\n",
      "<ul class=\"wp-block-list\"><li>High cardinality (such as cross features at consumer levels) and volatile values (e.g., values change frequently from day to day).</li>\n",
      "<li>Aggregated over short time windows, e.g. aggregated features with past 1 day/7 day data, making them more susceptible to outdated data being served from the cache.</li></ul>\n",
      "<p>For the 10 most important new features, we have listed their mostly observed staleness and % of fetched residuals during online serving: </p>\n",
      "\n",
      "<figure class=\"wp-block-table\"><table class=\"has-fixed-layout\"><tbody><tr><td><strong>Feature Name</strong></td><td><strong>Feature Aggregation Level</strong></td><td><strong>Feature Aggregation Time Window</strong></td><td><strong>Feature Staleness</strong></td><td><strong>Feature Missing Rate</strong></td><td><strong>% of cached residuals</strong></td></tr><tr><td>Feature 1</td><td>Consumer level</td><td>Past 1 year</td><td>-3d/-4d</td><td>2.77%</td><td>1.15%</td></tr><tr><td>Feature 2</td><td>&lt;Consumer, Store&gt; level</td><td>Past 3 month</td><td>-3d</td><td>76.20%</td><td>45.6%</td></tr><tr><td>Feature 3</td><td>&lt;Consumer, Store&gt; level</td><td>Past half-year</td><td>-3d</td><td>70.19%</td><td>23.6%</td></tr><tr><td>Feature 4</td><td>Consumer level</td><td>Past 1 year</td><td>-3d/-4d</td><td>2.77%</td><td>6.07%</td></tr><tr><td>Feature 5</td><td>Consumer level</td><td>Past 3 months</td><td>-3d</td><td>45.18%</td><td>4.56%</td></tr><tr><td>Feature 6</td><td>Consumer level</td><td>Past 3 months</td><td>-3d</td><td>76.19%</td><td>31.0%</td></tr><tr><td>Feature 7</td><td>Consumer level</td><td>Past 1 month</td><td>-2d</td><td>76.19%</td><td>31.0%</td></tr><tr><td>Feature 8</td><td>Store level</td><td>Past 3 months</td><td>-3d</td><td>0.92%</td><td>34.9%</td></tr><tr><td>Feature 9</td><td>Consumer level</td><td>Past 3 months</td><td>-2d</td><td>45.18%</td><td>4.55%</td></tr><tr><td>Feature 10</td><td>Store level</td><td>Past 1 day</td><td>-3d</td><td>23.50%</td><td>24.7%</td></tr></tbody></table><figcaption class=\"wp-element-caption\">Table 3: Cache Residuals of the 10 most important added features</figcaption></figure>\n",
      "\n",
      "<p><strong>Online vs offline feature distribution</strong></p>\n",
      "<p>For served features with a higher concentration of cached residuals, we observed a noticeably lower missing rate online compared to offline. This discrepancy is reflected in the misalignment of feature distributions between online and offline, as seen in Fig-2. In the examples below,<strong> </strong>missing values for both features are imputed as 0, leading to pronounced peaks around 0 in the distributions.</p>\n",
      "\n",
      "<figure class=\"wp-block-image aligncenter is-resized\"><img alt=\"\" src=\"https://lh7-rt.googleusercontent.com/docsz/AD_4nXeC8PfTbKQ_oN14mOK-aGt2JZczRZjb0ivbKiS_XkeAc-CTFuMLh99iQAVOlXNTTRtdp3rPB15k9jg43-_qJiJNrj2M8bNLBvBtIi256_LyR7_Zq6e5zddxZIo2tFBQqRBLqsf4?key=2JKv1fZGhwooiun5eP7Ez3ot\" style=\"width:746px;height:auto\"/><figcaption class=\"wp-element-caption\"><em>Figure 2: Feature Distribution Online (red) vs Offline (blue)</em></figcaption></figure>\n",
      "\n",
      "<h4 class=\"wp-block-heading\">Feature staleness</h4>\n",
      "<p><strong>Feature-to-feature variations</strong></p>\n",
      "<p>The actual staleness varies across features due to the variances in the pipeline implementations, processed data volume, availability of computation resources, and feature uploading velocities. Below are two examples to illustrate such variations. </p>\n",
      "<ul class=\"wp-block-list\"><li>Feature 1: -3d to -4d delay</li>\n",
      "<li>Feature 10: -1d delay</li></ul>\n",
      "\n",
      "<figure class=\"wp-block-image aligncenter is-resized\"><img alt=\"\" src=\"https://lh7-rt.googleusercontent.com/docsz/AD_4nXfVu9h5JPpG3wnNU3x6zVw8rVqxankDAxsNyD2_QZlc-bn4gYjJtefjkV4pe0M58WsheHYsqgDNL_EEBHBdzzAFwH_M5CmumrYhRJJify_L0vzlXpm898hLl0EV4Yvf0MGfwSxarw?key=2JKv1fZGhwooiun5eP7Ez3ot\" style=\"width:593px;height:auto\"/></figure>\n",
      "\n",
      "\n",
      "<figure class=\"wp-block-image aligncenter is-resized\"><img alt=\"\" src=\"https://lh7-rt.googleusercontent.com/docsz/AD_4nXcr0SIZWL1hl1VF1CBw29l9xYdHISxI6l3lwM0afEWGBLVcO4GCuVJBoZnwgko8VWzlTgFQUjxk6C6fhbPQtw4zj-NjCCHMZe6QbykCDs6UBWOFnBeTXhg0yp_yl3j2_igkny33ZQ?key=2JKv1fZGhwooiun5eP7Ez3ot\" style=\"width:589px;height:auto\"/><figcaption class=\"wp-element-caption\"><em>Figure 3: Feature Staleness</em></figcaption></figure>\n",
      "\n",
      "<p><em>* Disclaimer: Figure 3 may underestimate feature staleness, as small day-to-day feature value changes make it hard to pinpoint the exact feature uploading date. This data should be taken with a grain of salt.</em></p>\n",
      "<p><strong>Day-to-day feature value change</strong></p>\n",
      "<p>For most features, only less than 10% of feature values are different from previous days, while features with small aggregation time windows have more than 35% difference. </p>\n",
      "\n",
      "<figure class=\"wp-block-table\"><table class=\"has-fixed-layout\"><tbody><tr><td><strong>Feature Name</strong></td><td><strong>Feature Aggregation Level</strong></td><td><strong>Feature Aggregation Time Window</strong></td><td><strong>% of entities change**</strong></td><td><strong>% of feature value mismatch***</strong></td></tr><tr><td>Feature 1</td><td>Consumer level</td><td>Past 1 year</td><td>0.0258%</td><td>9.69%</td></tr><tr><td>Feature 2</td><td>&lt;Consumer, Store&gt; level</td><td>Past 3 month</td><td>1.04%</td><td>5.2%</td></tr><tr><td>Feature 3</td><td>&lt;Consumer, Store&gt; level</td><td>Past half-year</td><td>3.36%</td><td>11.3%</td></tr><tr><td>Feature 4</td><td>Consumer level</td><td>Past 1 year</td><td>0.0258%</td><td>9.68%</td></tr><tr><td>Feature 5</td><td>Consumer level</td><td>Past 3 months</td><td>1.0%</td><td>8.37%</td></tr><tr><td>Feature 6</td><td>Consumer level</td><td>Past 3 months</td><td>1.04%</td><td>4.66%</td></tr><tr><td>Feature 7</td><td>Consumer level</td><td>Past 1 month</td><td>1.04%</td><td>4.66%</td></tr><tr><td>Feature 8</td><td>Store level</td><td>Past 3 months</td><td>0.09%</td><td>4.38%</td></tr><tr><td>Feature 9</td><td>Consumer level</td><td>Past 3 months</td><td>1.04%</td><td>4.78%</td></tr><tr><td>Feature 10</td><td>Store level</td><td>Past 1 day</td><td>0.436%</td><td>35.7%</td></tr></tbody></table><figcaption class=\"wp-element-caption\"><em>Table 4: Cache Residuals of the 10 most important added features<br/>**<strong> </strong>the percentage of entity_ids that did not show up in the previous data.<br/>***the percentage of feature values that are different from the previous day. </em></figcaption></figure>\n",
      "\n",
      "<h2 class=\"wp-block-heading\">Validate hypothesis and close the loop</h2>\n",
      "<p>To summarize the above investigation and close the hypothesis validation loop, we build new training and evaluation datasets and run evaluations. For the features inherited from the current model, we continued to use the Real-time Serving logged values in all the training sets.</p>\n",
      "<ul class=\"wp-block-list\"><li><strong>Rebuild</strong> 4 datasets with impression data joining with minus 1/2/3/4 day feature offset dates for both training and evaluation datasets and train 4 models respectively. </li>\n",
      "<li><strong>Evaluate</strong> 4 model performances on 2 datasets (date ranges are different between them):<ul class=\"wp-block-list\"><li>Offline Evaluation dataset - The eval dataset with the same feature offset dates as training. </li></ul></li></ul>\n",
      "<p>Shadow Log dataset - All feature values are logged values from online real-time model serving. </p>\n",
      "\n",
      "<figure class=\"wp-block-image aligncenter size-large is-resized\"><img alt=\"\" class=\"wp-image-13500\" src=\"https://careersatdoordash.com/wp-content/uploads/2024/12/image-1024x565.png\" style=\"width:626px;height:auto\"/><figcaption class=\"wp-element-caption\"><em>Figure 4: AUC Relative Changes on models trained by -1/2/3/4 day feature offsets</em></figcaption></figure>\n",
      "\n",
      "<p class=\"has-text-align-left\">From the above Fig-4, if we trace out the offline AUC vs Feature offset days (e.g. delayness), it suggests that model performance degrades as feature freshness decreases, highlighting the importance of timely feature updates in maintaining optimal model accuracy.</p>\n",
      "<p>The most significant AUC drop comes from 1d delay to 2d. The rationale for picking offline AUC instead of online as the benchmark is to rule out the impact of feature disparity.</p>\n",
      "<h2 class=\"wp-block-heading\">Proposed solutions</h2>\n",
      "<p><strong>Short-term:</strong> Generate evaluation sets with different feature offsets (e.g., -2d, -3d, -4d) and select the offset closest to production AUC. Use this offset to create training data and build the model.</p>\n",
      "<p><strong>Long-term:</strong> Enable online logging for new features. However, there’s a clear trade-off between development speed and data accuracy, which needs careful consideration during the project planning stage.</p>\n",
      "\n",
      "<figure class=\"wp-block-table\"><table class=\"has-fixed-layout\"><tbody><tr><td>Solution</td><td>Pros</td><td>Cons</td></tr><tr><td>Short-term</td><td>Reduces AUC discrepancy immediately</td><td>Does not address cached residuals</td></tr><tr><td>Long-term</td><td>Effectively resolves both cached residuals and feature staleness.Improves model generalization.</td><td>Has the trade-off between development speed and data accuracyRequires system stability improvements to support feature logging of larger traffic.</td></tr></tbody></table><figcaption class=\"wp-element-caption\"><em>Table 5: Comparison between short-term and long-term solutions</em></figcaption></figure>\n",
      "\n",
      "<h2 class=\"wp-block-heading\">Experiment result and conclusion</h2>\n",
      "<p>By adopting the short-term solution proposed in the blog, we reduce the online offline AUC gap from 4.3% to 0.76% for our latest Restaurant Discovery Ads Ranking model Deep Learning Iteration. Combined with other feature improvements, this iteration achieved the largest business gain among Ads Ranking model Iterations this year.</p>\n",
      "<p>This investigation not only resolved immediate performance gaps but also highlighted the importance of feature alignment in real-time systems. The methodology developed here can serve as a blueprint for addressing similar challenges across other domains. Moving forward, adopting robust logging systems and scaling feature pipelines will ensure that our models continue to drive impactful business outcomes.</p>\n",
      "<h2 class=\"wp-block-heading\">Other thoughts</h2>\n",
      "<h3 class=\"wp-block-heading\">Why was the online vs offline gap not as significant before 2023?</h3>\n",
      "<p><strong>Scale of the Business</strong>: The ads business has grown 3-5x over the past year, leading to increased data volume and feature complexity, which has amplified the impact of feature staleness and cached residuals.</p>\n",
      "<p><strong>Model Architecture</strong>: Previously, tree-based models were less sensitive to feature disparities because they bucketize values into leaf nodes, meaning small differences often have minimal impact. However, DNNs, being parametric models, are much more sensitive to precise feature values, where even slight deviations can affect the model's output. This shift to DNNs has made the online vs. offline gap more significant. </p>\n",
      "<h2 class=\"wp-block-heading\">Acknowledgments</h2>\n",
      "<p>Special thanks to Hebo Yang, Mark Yang, Ferras Hamad, Vasily Vlasov and Arvind Kalyan from Machine Learning Platform for all the collaborations on Ads User Engagement Prediction Modeling. </p>\n",
      "<p></p>\n",
      "<p>Interested in solving these kind of problems? Come <a href=\"https://careersatdoordash.com/job-search/?department=Engineering&amp;job_ids=&amp;location=\">join us</a>!  </p> </div>\n"
     ]
    }
   ],
   "source": [
    "from bs4.element import Comment\n",
    "\n",
    "for comment in article.find_all(string=lambda text: isinstance(text,Comment)):\n",
    "    comment.extract()\n",
    "\n",
    "clean_html = str(article)\n",
    "print(clean_html)"
   ]
  },
  {
   "cell_type": "markdown",
   "metadata": {},
   "source": [
    "## Markdownify"
   ]
  },
  {
   "cell_type": "code",
   "execution_count": null,
   "metadata": {},
   "outputs": [],
   "source": [
    "from langchain_community.document_loaders import AsyncHtmlLoader\n",
    "\n",
    "urls = [\"https://careersatdoordash.com/blog/how-doordash-leverages-llms-for-better-search-retrieval/\"]\n",
    "loader = AsyncHtmlLoader(urls)\n",
    "docs = loader.load()"
   ]
  },
  {
   "cell_type": "code",
   "execution_count": 7,
   "metadata": {},
   "outputs": [
    {
     "name": "stdout",
     "output_type": "stream",
     "text": [
      "Improving code quality - Session 26: The explanation is in the first sentence\n",
      "\n",
      "[Skip to main content](#container)[Skip to footer](#footer)\n",
      "\n",
      "Open Menu\n",
      "\n",
      "* [Corporate  \n",
      "   Information](https://www.lycorp.co.jp/en/company/)\n",
      "* [News](https://www.lycorp.co.jp/en/news/)\n",
      "* [Service](https://www.lycorp.co.jp/en/service/)\n",
      "* [Technology](https://www.lycorp.co.jp/en/technology/)\n",
      "* [Privacy &  \n",
      "   Security](https://www.lycorp.co.jp/en/privacy-security/)\n",
      "* [Investor  \n",
      "   Relations](https://www.lycorp.co.jp/en/ir/)\n",
      "* [Sustainability](https://www.lycorp.co.jp/en/sustainability/)\n",
      "* [Careers](https://www.lycorp.co.jp/en/recruit/newgrads/engineer/)\n",
      "\n",
      "English\n",
      "\n",
      "* [日本語](/ja/20240523a)\n",
      "* [English](/en/20250224icq)\n",
      "\n",
      "Search\n",
      "\n",
      "[**LY Corporation Tech Blog**](/en)\n",
      "\n",
      "We are promoting the technology and development culture that supports the services of LY Corporation and LY Corporation Group (LINE Plus, LINE Taiwan and LINE Vietnam).\n",
      "\n",
      "This post is also available in the following languages. [Japanese](/ja/20240523a)\n",
      "\n",
      "#\n"
     ]
    }
   ],
   "source": [
    "from langchain_community.document_transformers import MarkdownifyTransformer\n",
    "\n",
    "md = MarkdownifyTransformer()\n",
    "converted_docs = md.transform_documents(docs)\n",
    "\n",
    "print(converted_docs[0].page_content[:1000])"
   ]
  },
  {
   "cell_type": "code",
   "execution_count": 20,
   "metadata": {},
   "outputs": [
    {
     "data": {
      "text/plain": [
       "'careersatdoordash.com'"
      ]
     },
     "execution_count": 20,
     "metadata": {},
     "output_type": "execute_result"
    }
   ],
   "source": [
    "from urllib.parse import urlparse\n",
    "\n",
    "urlparse(urls[0]).netloc"
   ]
  }
 ],
 "metadata": {
  "kernelspec": {
   "display_name": "rag",
   "language": "python",
   "name": "python3"
  },
  "language_info": {
   "codemirror_mode": {
    "name": "ipython",
    "version": 3
   },
   "file_extension": ".py",
   "mimetype": "text/x-python",
   "name": "python",
   "nbconvert_exporter": "python",
   "pygments_lexer": "ipython3",
   "version": "3.13.2"
  }
 },
 "nbformat": 4,
 "nbformat_minor": 2
}
