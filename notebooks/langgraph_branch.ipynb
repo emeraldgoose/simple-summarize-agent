{
 "cells": [
  {
   "cell_type": "code",
   "execution_count": 38,
   "metadata": {},
   "outputs": [],
   "source": [
    "import random\n",
    "import operator\n",
    "from typing import Annotated\n",
    "from typing_extensions import TypedDict\n",
    "\n",
    "from langgraph.graph import StateGraph, START, END\n",
    "\n",
    "class State(TypedDict):\n",
    "    msg1: str\n",
    "    msg2: str\n",
    "    final: str\n",
    "\n",
    "graph_builder = StateGraph(State)"
   ]
  },
  {
   "cell_type": "code",
   "execution_count": 39,
   "metadata": {},
   "outputs": [
    {
     "data": {
      "text/plain": [
       "TEMP(ta=TA(a='aaa'), tb=TB(b='bbb', c='ccc'))"
      ]
     },
     "execution_count": 39,
     "metadata": {},
     "output_type": "execute_result"
    }
   ],
   "source": [
    "import json\n",
    "from pydantic import BaseModel\n",
    "\n",
    "class TA(BaseModel):\n",
    "    a: str\n",
    "\n",
    "class TB(BaseModel):\n",
    "    b: str\n",
    "    c: str\n",
    "\n",
    "class TEMP(BaseModel):\n",
    "    ta: TA\n",
    "    tb: TB\n",
    "\n",
    "temp = TEMP.model_validate({\"ta\": {\"a\": \"aaa\"}, \"tb\": {\"b\": \"bbb\", \"c\": \"ccc\"}})\n",
    "temp"
   ]
  },
  {
   "cell_type": "code",
   "execution_count": 40,
   "metadata": {},
   "outputs": [],
   "source": [
    "def init(state: State, config):\n",
    "    print(config['configurable'].get('key'))\n",
    "    return state\n",
    "\n",
    "def node1(state: State, config):\n",
    "    msg1 = state.get('msg1',\"\")\n",
    "    msg1 = \"store node 1\"\n",
    "    temp = config['configurable'].get(\"temp\")\n",
    "    print(temp.ta.a)\n",
    "    # return State(msg1=msg1)\n",
    "    return {\"msg1\": msg1}\n",
    "\n",
    "def node2(state: State, config):\n",
    "    msg2 = state.get(\"msg2\",\"\")\n",
    "    msg2 = \"store node 2\"\n",
    "    temp = config['configurable'].get(\"temp\")\n",
    "    print(temp.tb.b)\n",
    "    # return State(msg2=msg2)\n",
    "    return {\"msg2\": msg2}\n",
    "\n",
    "def node3(state: State, config):\n",
    "    print(config['configurable'].get('key'))\n",
    "    print(state)\n",
    "    temp = config['configurable'].get(\"temp\")\n",
    "    print(temp.tb.c)\n",
    "    msg1 = state.get(\"msg1\")\n",
    "    msg2 = state.get(\"msg2\")\n",
    "    final = f'{msg1} | {msg2}'\n",
    "    # return State(final=final)\n",
    "    return {\"final\": final}\n",
    "\n",
    "graph_builder.add_node(\"init\",init)\n",
    "graph_builder.add_node(\"node1\",node1)\n",
    "graph_builder.add_node(\"node2\",node2)\n",
    "graph_builder.add_node(\"node3\",node3)\n",
    "\n",
    "graph_builder.set_entry_point(\"init\")\n",
    "\n",
    "graph_builder.add_edge(\"init\",\"node1\")\n",
    "graph_builder.add_edge(\"init\",\"node2\")\n",
    "graph_builder.add_edge(\"node1\",\"node3\")\n",
    "graph_builder.add_edge(\"node2\",\"node3\")\n",
    "graph_builder.add_edge(\"node3\",END)\n",
    "\n",
    "graph = graph_builder.compile()"
   ]
  },
  {
   "cell_type": "code",
   "execution_count": 41,
   "metadata": {},
   "outputs": [
    {
     "name": "stdout",
     "output_type": "stream",
     "text": [
      "value\n",
      "aaa\n",
      "bbb\n",
      "value\n",
      "{'msg1': 'store node 1', 'msg2': 'store node 2'}\n",
      "ccc\n"
     ]
    },
    {
     "data": {
      "text/plain": [
       "{'msg1': 'store node 1',\n",
       " 'msg2': 'store node 2',\n",
       " 'final': 'store node 1 | store node 2'}"
      ]
     },
     "execution_count": 41,
     "metadata": {},
     "output_type": "execute_result"
    }
   ],
   "source": [
    "graph.invoke({\"msg1\":\"\"}, {'key':'value', \"temp\": temp})"
   ]
  }
 ],
 "metadata": {
  "kernelspec": {
   "display_name": "rag",
   "language": "python",
   "name": "python3"
  },
  "language_info": {
   "codemirror_mode": {
    "name": "ipython",
    "version": 3
   },
   "file_extension": ".py",
   "mimetype": "text/x-python",
   "name": "python",
   "nbconvert_exporter": "python",
   "pygments_lexer": "ipython3",
   "version": "3.13.2"
  }
 },
 "nbformat": 4,
 "nbformat_minor": 2
}
