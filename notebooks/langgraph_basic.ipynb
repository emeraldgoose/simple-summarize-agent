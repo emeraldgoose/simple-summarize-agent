{
 "cells": [
  {
   "cell_type": "code",
   "execution_count": 1,
   "metadata": {},
   "outputs": [],
   "source": [
    "import random\n",
    "from typing import Annotated\n",
    "from typing_extensions import TypedDict\n",
    "\n",
    "from langgraph.graph import StateGraph, START, END\n",
    "\n",
    "class State(TypedDict):\n",
    "    prob: float\n",
    "\n",
    "graph_builder = StateGraph(State)"
   ]
  },
  {
   "cell_type": "code",
   "execution_count": 2,
   "metadata": {},
   "outputs": [
    {
     "data": {
      "text/plain": [
       "<langgraph.graph.state.StateGraph at 0x115100830>"
      ]
     },
     "execution_count": 2,
     "metadata": {},
     "output_type": "execute_result"
    }
   ],
   "source": [
    "def init_probability(state: State):\n",
    "    return {\"probability\": state.get(\"prob\")}\n",
    "\n",
    "graph_builder.add_node('init_probility', init_probability)"
   ]
  },
  {
   "cell_type": "code",
   "execution_count": 3,
   "metadata": {},
   "outputs": [
    {
     "data": {
      "text/plain": [
       "<langgraph.graph.state.StateGraph at 0x115100830>"
      ]
     },
     "execution_count": 3,
     "metadata": {},
     "output_type": "execute_result"
    }
   ],
   "source": [
    "def add_probability(state: State):\n",
    "    prev_probability = state.get(\"prob\")\n",
    "    random_value = random.random()\n",
    "    \n",
    "    print(\"######## ADD PROBABILITY ########\")\n",
    "    print(f\"RANDOM VALUE: {random_value}\")\n",
    "    \n",
    "    state.update(\n",
    "        {\"prob\": prev_probability + random_value}\n",
    "        )\n",
    "    return {\"prob\": state.get(\"prob\")}\n",
    "\n",
    "graph_builder.add_node(\"add_probability\", add_probability)"
   ]
  },
  {
   "cell_type": "code",
   "execution_count": 4,
   "metadata": {},
   "outputs": [
    {
     "data": {
      "text/plain": [
       "<langgraph.graph.state.StateGraph at 0x115100830>"
      ]
     },
     "execution_count": 4,
     "metadata": {},
     "output_type": "execute_result"
    }
   ],
   "source": [
    "def check_probability(state: State):\n",
    "    print(\"######## CHECKING PROBABILITY ########\")\n",
    "    print(f\"CURRENT PROBABILITY: {state['prob']}\")\n",
    "    return {\"prob\": state.get(\"prob\")}\n",
    "    \n",
    "graph_builder.add_node(\"check_probability\", check_probability)"
   ]
  },
  {
   "cell_type": "code",
   "execution_count": 5,
   "metadata": {},
   "outputs": [
    {
     "data": {
      "text/plain": [
       "<langgraph.graph.state.StateGraph at 0x115100830>"
      ]
     },
     "execution_count": 5,
     "metadata": {},
     "output_type": "execute_result"
    }
   ],
   "source": [
    "def route_to_add(state: State):\n",
    "    print(\"######## ROUTE TO ADD ########\")\n",
    "    current_probability = state.get(\"prob\")\n",
    "    \n",
    "    if current_probability >= 1:\n",
    "        print(\"=> PROBABILITY IS GREATER THAN 1\")\n",
    "        return \"pass\"\n",
    "    else:\n",
    "        print(\"=> PROBABILITY IS LESS THAN 1\")\n",
    "        return \"fail\"\n",
    "\n",
    "graph_builder.add_conditional_edges(\n",
    "    \"check_probability\",\n",
    "    route_to_add,\n",
    "    {\"fail\": \"add_probability\", \"pass\": \"final_probabilty\"}\n",
    ")"
   ]
  },
  {
   "cell_type": "code",
   "execution_count": 6,
   "metadata": {},
   "outputs": [
    {
     "data": {
      "text/plain": [
       "<langgraph.graph.state.StateGraph at 0x115100830>"
      ]
     },
     "execution_count": 6,
     "metadata": {},
     "output_type": "execute_result"
    }
   ],
   "source": [
    "def final_probabilty(state: State):\n",
    "    print(\"######## FINAL PROBABILITY ########\")\n",
    "    print(f\"FINAL PROBABILITY: {state['prob']}\")\n",
    "    return {\"probability\": state.get(\"prob\")}\n",
    "\n",
    "graph_builder.add_node(\"final_probabilty\", final_probabilty)"
   ]
  },
  {
   "cell_type": "code",
   "execution_count": 7,
   "metadata": {},
   "outputs": [],
   "source": [
    "graph_builder.add_edge(START, \"init_probility\")\n",
    "graph_builder.add_edge(\"init_probility\", \"check_probability\")\n",
    "graph_builder.add_edge(\"add_probability\", \"check_probability\")\n",
    "graph_builder.add_edge(\"final_probabilty\", END)\n",
    "graph = graph_builder.compile()"
   ]
  },
  {
   "cell_type": "code",
   "execution_count": 8,
   "metadata": {},
   "outputs": [
    {
     "data": {
      "image/png": "[encoded data removed]",
      "text/plain": [
       "<IPython.core.display.Image object>"
      ]
     },
     "metadata": {},
     "output_type": "display_data"
    }
   ],
   "source": [
    "from IPython.display import Image, display\n",
    "\n",
    "try:\n",
    "    display(Image(graph.get_graph().draw_mermaid_png()))\n",
    "except Exception:\n",
    "    # This requires some extra dependencies and is optional\n",
    "    pass"
   ]
  },
  {
   "cell_type": "code",
   "execution_count": 9,
   "metadata": {},
   "outputs": [
    {
     "name": "stdout",
     "output_type": "stream",
     "text": [
      "######## CHECKING PROBABILITY ########\n",
      "CURRENT PROBABILITY: -0.5\n",
      "######## ROUTE TO ADD ########\n",
      "=> PROBABILITY IS LESS THAN 1\n",
      "######## ADD PROBABILITY ########\n",
      "RANDOM VALUE: 0.6746401239508617\n",
      "######## CHECKING PROBABILITY ########\n",
      "CURRENT PROBABILITY: 0.1746401239508617\n",
      "######## ROUTE TO ADD ########\n",
      "=> PROBABILITY IS LESS THAN 1\n",
      "######## ADD PROBABILITY ########\n",
      "RANDOM VALUE: 0.31736326981703245\n",
      "######## CHECKING PROBABILITY ########\n",
      "CURRENT PROBABILITY: 0.49200339376789415\n",
      "######## ROUTE TO ADD ########\n",
      "=> PROBABILITY IS LESS THAN 1\n",
      "######## ADD PROBABILITY ########\n",
      "RANDOM VALUE: 0.39121100403701126\n",
      "######## CHECKING PROBABILITY ########\n",
      "CURRENT PROBABILITY: 0.8832143978049054\n",
      "######## ROUTE TO ADD ########\n",
      "=> PROBABILITY IS LESS THAN 1\n",
      "######## ADD PROBABILITY ########\n",
      "RANDOM VALUE: 0.6166485495434987\n",
      "######## CHECKING PROBABILITY ########\n",
      "CURRENT PROBABILITY: 1.499862947348404\n",
      "######## ROUTE TO ADD ########\n",
      "=> PROBABILITY IS GREATER THAN 1\n",
      "######## FINAL PROBABILITY ########\n",
      "FINAL PROBABILITY: 1.499862947348404\n"
     ]
    },
    {
     "data": {
      "text/plain": [
       "{'prob': 1.499862947348404}"
      ]
     },
     "execution_count": 9,
     "metadata": {},
     "output_type": "execute_result"
    }
   ],
   "source": [
    "graph.invoke({\"prob\":-0.5})"
   ]
  }
 ],
 "metadata": {
  "kernelspec": {
   "display_name": "rag",
   "language": "python",
   "name": "python3"
  },
  "language_info": {
   "codemirror_mode": {
    "name": "ipython",
    "version": 3
   },
   "file_extension": ".py",
   "mimetype": "text/x-python",
   "name": "python",
   "nbconvert_exporter": "python",
   "pygments_lexer": "ipython3",
   "version": "3.13.2"
  }
 },
 "nbformat": 4,
 "nbformat_minor": 2
}
